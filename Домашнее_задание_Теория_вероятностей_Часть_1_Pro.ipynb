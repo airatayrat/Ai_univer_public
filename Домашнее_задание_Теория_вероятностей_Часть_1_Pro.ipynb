{
  "nbformat": 4,
  "nbformat_minor": 0,
  "metadata": {
    "colab": {
      "name": "Домашнее задание. Теория вероятностей Часть 1. Pro.ipynb",
      "provenance": [],
      "collapsed_sections": [],
      "include_colab_link": true
    },
    "kernelspec": {
      "name": "python3",
      "display_name": "Python 3"
    }
  },
  "cells": [
    {
      "cell_type": "markdown",
      "metadata": {
        "id": "view-in-github",
        "colab_type": "text"
      },
      "source": [
        "<a href=\"https://colab.research.google.com/github/airatayrat/Ai_univer_public/blob/main/%D0%94%D0%BE%D0%BC%D0%B0%D1%88%D0%BD%D0%B5%D0%B5_%D0%B7%D0%B0%D0%B4%D0%B0%D0%BD%D0%B8%D0%B5_%D0%A2%D0%B5%D0%BE%D1%80%D0%B8%D1%8F_%D0%B2%D0%B5%D1%80%D0%BE%D1%8F%D1%82%D0%BD%D0%BE%D1%81%D1%82%D0%B5%D0%B9_%D0%A7%D0%B0%D1%81%D1%82%D1%8C_1_Pro.ipynb\" target=\"_parent\"><img src=\"https://colab.research.google.com/assets/colab-badge.svg\" alt=\"Open In Colab\"/></a>"
      ]
    },
    {
      "cell_type": "markdown",
      "metadata": {
        "id": "Jd4TZPYFrR6S"
      },
      "source": [
        "Домашнее задание. Теория вероятностей. Часть 1. Pro"
      ]
    },
    {
      "cell_type": "code",
      "metadata": {
        "id": "aPxipXlsp5ye"
      },
      "source": [
        "from google.colab import drive\n",
        "drive.mount('/content/drive')"
      ],
      "execution_count": null,
      "outputs": []
    },
    {
      "cell_type": "markdown",
      "metadata": {
        "id": "Phb0jwW9rS0R"
      },
      "source": [
        "Задача 1\n",
        "\n",
        "Стрелок попадает в цель с одной и той же вероятностью при каждом выстреле. Какова эта вероятность, если вероятность хотя бы одного попадания при трех выстрелах равна 0,853?"
      ]
    },
    {
      "cell_type": "code",
      "metadata": {
        "id": "IDbwrZINrTK1"
      },
      "source": [
        ""
      ],
      "execution_count": null,
      "outputs": []
    },
    {
      "cell_type": "markdown",
      "metadata": {
        "id": "xWEp7CyTr1LA"
      },
      "source": [
        "Задача 2\n",
        "\n",
        "На шахматную доску из 64 клеток ставят наугад две ладьи белого и чёрного цвета. С какой вероятностью они будут «бить» друг друга?"
      ]
    },
    {
      "cell_type": "code",
      "metadata": {
        "id": "3-DyAn48sDSp"
      },
      "source": [
        ""
      ],
      "execution_count": null,
      "outputs": []
    },
    {
      "cell_type": "markdown",
      "metadata": {
        "id": "IE9h1SKusDjH"
      },
      "source": [
        "Задача 3\n",
        "\n",
        "Подбрасывается 20 монет. Найти вероятность того, что\n",
        "\n",
        "* на всех монетах выпадет решка;\n",
        "\n",
        "* орёл выпадет КАК МИНИМУМ на половине монетах. (Для решения этой части используйте формулу Бернулли)."
      ]
    },
    {
      "cell_type": "code",
      "metadata": {
        "id": "PLdDCEeLsh8R"
      },
      "source": [
        ""
      ],
      "execution_count": null,
      "outputs": []
    },
    {
      "cell_type": "markdown",
      "metadata": {
        "id": "wEfHIN4Msil3"
      },
      "source": [
        "Задача 4\n",
        "\n",
        "Какова вероятность того, что в 5 сданных картах будет один туз и один король? (Колода 36 карт)."
      ]
    },
    {
      "cell_type": "code",
      "metadata": {
        "id": "ok4Qqr77tNfr"
      },
      "source": [
        ""
      ],
      "execution_count": null,
      "outputs": []
    },
    {
      "cell_type": "markdown",
      "metadata": {
        "id": "BliQqjAGtNvE"
      },
      "source": [
        "Задача 5\n",
        "\n",
        "В ящике находится 19 качественных и 4 бракованных детали. Наугад извлекаются 2 детали. Найти вероятность того, что\n",
        "\n",
        "* обе детали будут качественными;\n",
        "* обе детали будут бракованными;\n",
        "* одна деталь будет качественной, а одна – бракованной."
      ]
    },
    {
      "cell_type": "code",
      "metadata": {
        "id": "Ukb4LWyWt0Lo"
      },
      "source": [
        ""
      ],
      "execution_count": null,
      "outputs": []
    }
  ]
}